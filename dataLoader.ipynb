{
 "cells": [
  {
   "cell_type": "code",
   "execution_count": 14,
   "metadata": {},
   "outputs": [],
   "source": [
    "import zipfile\n",
    "import os\n",
    "import urllib.request\n",
    "import pandas as pd"
   ]
  },
  {
   "cell_type": "code",
   "execution_count": 17,
   "metadata": {},
   "outputs": [
    {
     "data": {
      "text/html": [
       "<div>\n",
       "<style scoped>\n",
       "    .dataframe tbody tr th:only-of-type {\n",
       "        vertical-align: middle;\n",
       "    }\n",
       "\n",
       "    .dataframe tbody tr th {\n",
       "        vertical-align: top;\n",
       "    }\n",
       "\n",
       "    .dataframe thead th {\n",
       "        text-align: right;\n",
       "    }\n",
       "</style>\n",
       "<table border=\"1\" class=\"dataframe\">\n",
       "  <thead>\n",
       "    <tr style=\"text-align: right;\">\n",
       "      <th></th>\n",
       "      <th>PID</th>\n",
       "      <th>DAY_ID</th>\n",
       "      <th>DX_GROUP_DESCRIPTION</th>\n",
       "      <th>SERVICE_LOCATION</th>\n",
       "      <th>OP_DATE</th>\n",
       "    </tr>\n",
       "  </thead>\n",
       "  <tbody>\n",
       "    <tr>\n",
       "      <th>0</th>\n",
       "      <td>1</td>\n",
       "      <td>73888</td>\n",
       "      <td>ANGINA PECTORIS</td>\n",
       "      <td>DOCTORS OFFICE</td>\n",
       "      <td>74084</td>\n",
       "    </tr>\n",
       "    <tr>\n",
       "      <th>1</th>\n",
       "      <td>1</td>\n",
       "      <td>73888</td>\n",
       "      <td>MONONEURITIS OF UPPER LIMB AND MONONEURITIS MU...</td>\n",
       "      <td>DOCTORS OFFICE</td>\n",
       "      <td>74084</td>\n",
       "    </tr>\n",
       "    <tr>\n",
       "      <th>2</th>\n",
       "      <td>1</td>\n",
       "      <td>73888</td>\n",
       "      <td>SYMPTOMS INVOLVING RESPIRATORY SYSTEM AND OTHE...</td>\n",
       "      <td>DOCTORS OFFICE</td>\n",
       "      <td>74084</td>\n",
       "    </tr>\n",
       "    <tr>\n",
       "      <th>3</th>\n",
       "      <td>1</td>\n",
       "      <td>73880</td>\n",
       "      <td>ACUTE APPENDICITIS</td>\n",
       "      <td>INPATIENT HOSPITAL</td>\n",
       "      <td>74084</td>\n",
       "    </tr>\n",
       "    <tr>\n",
       "      <th>4</th>\n",
       "      <td>1</td>\n",
       "      <td>73880</td>\n",
       "      <td>DIABETES MELLITUS</td>\n",
       "      <td>INPATIENT HOSPITAL</td>\n",
       "      <td>74084</td>\n",
       "    </tr>\n",
       "  </tbody>\n",
       "</table>\n",
       "</div>"
      ],
      "text/plain": [
       "   PID  DAY_ID                               DX_GROUP_DESCRIPTION  \\\n",
       "0    1   73888                                    ANGINA PECTORIS   \n",
       "1    1   73888  MONONEURITIS OF UPPER LIMB AND MONONEURITIS MU...   \n",
       "2    1   73888  SYMPTOMS INVOLVING RESPIRATORY SYSTEM AND OTHE...   \n",
       "3    1   73880                                 ACUTE APPENDICITIS   \n",
       "4    1   73880                                  DIABETES MELLITUS   \n",
       "\n",
       "     SERVICE_LOCATION  OP_DATE  \n",
       "0      DOCTORS OFFICE    74084  \n",
       "1      DOCTORS OFFICE    74084  \n",
       "2      DOCTORS OFFICE    74084  \n",
       "3  INPATIENT HOSPITAL    74084  \n",
       "4  INPATIENT HOSPITAL    74084  "
      ]
     },
     "execution_count": 17,
     "metadata": {},
     "output_type": "execute_result"
    }
   ],
   "source": [
    "# Retrieve Data If Not In Our Active Directory\n",
    "if not os.path.exists(\"./txtData.zip\"):\n",
    "    urllib.request.urlretrieve(\"https://journals.plos.org/plosone/article/file?type=supplementary&id=10.1371/journal.pone.0195024.s001\", \"txtData.zip\")\n",
    "\n",
    "# Unzip our Data into Usable Form\n",
    "if not os.path.exists(\"./data\"):\n",
    "    with zipfile.ZipFile(\"./txtData.zip\", 'r') as zipped_file:\n",
    "        zipped_file.extractall(\"./data\")\n",
    "\n",
    "\n",
    "# Read Our Data into a Pandas Table\n",
    "data = pd.read_csv(\"./data/S1_File.txt\", sep='\\t', header=0)\n",
    "\n",
    "# Check Our Data\n",
    "data.head()"
   ]
  },
  {
   "cell_type": "code",
   "execution_count": 31,
   "metadata": {},
   "outputs": [],
   "source": [
    "# Group Our Data By Description\n",
    "desc = data.groupby('DX_GROUP_DESCRIPTION').size().to_frame('SIZE').reset_index()\n",
    "\n",
    "frequent_words = 100\n",
    "very_frequent_words = 1e4\n",
    "\n",
    "rare = desc[desc['SIZE'] > frequent_words]\n",
    "common = desc[desc['SIZE'] > very_frequent_words]\n",
    "\n",
    "rare = rare.sort_values(by = 'SIZE').reset_index()['DX_GROUP_DESCRIPTION']\n",
    "rare.index += 2 # We will follow the studies format of keeping \"Unknown\" as 1\n",
    "\n",
    "common = common.reset_index()['DX_GROUP_DESCRIPTION']"
   ]
  },
  {
   "cell_type": "code",
   "execution_count": null,
   "metadata": {},
   "outputs": [],
   "source": []
  }
 ],
 "metadata": {
  "kernelspec": {
   "display_name": "Python 3",
   "language": "python",
   "name": "python3"
  },
  "language_info": {
   "codemirror_mode": {
    "name": "ipython",
    "version": 3
   },
   "file_extension": ".py",
   "mimetype": "text/x-python",
   "name": "python",
   "nbconvert_exporter": "python",
   "pygments_lexer": "ipython3",
   "version": "3.8.10"
  }
 },
 "nbformat": 4,
 "nbformat_minor": 4
}
